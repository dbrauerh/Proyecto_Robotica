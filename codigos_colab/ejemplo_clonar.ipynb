{
  "nbformat": 4,
  "nbformat_minor": 0,
  "metadata": {
    "colab": {
      "name": "ejemplo_clonar.ipynb",
      "provenance": []
    },
    "kernelspec": {
      "name": "python3",
      "display_name": "Python 3"
    }
  },
  "cells": [
    {
      "cell_type": "code",
      "metadata": {
        "id": "MtMD3iZrIuVt",
        "colab_type": "code",
        "colab": {
          "base_uri": "https://localhost:8080/",
          "height": 134
        },
        "outputId": "19bff55f-362e-45da-9357-e86644427692"
      },
      "source": [
        "! git clone https://github.com/dbrauerh/Proyecto_Robotica.git\n"
      ],
      "execution_count": 1,
      "outputs": [
        {
          "output_type": "stream",
          "text": [
            "Cloning into 'Proyecto_Robotica'...\n",
            "remote: Enumerating objects: 17, done.\u001b[K\n",
            "remote: Counting objects:   5% (1/17)\u001b[K\rremote: Counting objects:  11% (2/17)\u001b[K\rremote: Counting objects:  17% (3/17)\u001b[K\rremote: Counting objects:  23% (4/17)\u001b[K\rremote: Counting objects:  29% (5/17)\u001b[K\rremote: Counting objects:  35% (6/17)\u001b[K\rremote: Counting objects:  41% (7/17)\u001b[K\rremote: Counting objects:  47% (8/17)\u001b[K\rremote: Counting objects:  52% (9/17)\u001b[K\rremote: Counting objects:  58% (10/17)\u001b[K\rremote: Counting objects:  64% (11/17)\u001b[K\rremote: Counting objects:  70% (12/17)\u001b[K\rremote: Counting objects:  76% (13/17)\u001b[K\rremote: Counting objects:  82% (14/17)\u001b[K\rremote: Counting objects:  88% (15/17)\u001b[K\rremote: Counting objects:  94% (16/17)\u001b[K\rremote: Counting objects: 100% (17/17)\u001b[K\rremote: Counting objects: 100% (17/17), done.\u001b[K\n",
            "remote: Compressing objects:   5% (1/17)\u001b[K\rremote: Compressing objects:  11% (2/17)\u001b[K\rremote: Compressing objects:  17% (3/17)\u001b[K\rremote: Compressing objects:  23% (4/17)\u001b[K\rremote: Compressing objects:  29% (5/17)\u001b[K\rremote: Compressing objects:  35% (6/17)\u001b[K\rremote: Compressing objects:  41% (7/17)\u001b[K\rremote: Compressing objects:  47% (8/17)\u001b[K\rremote: Compressing objects:  52% (9/17)\u001b[K\rremote: Compressing objects:  58% (10/17)\u001b[K\rremote: Compressing objects:  64% (11/17)\u001b[K\rremote: Compressing objects:  70% (12/17)\u001b[K\rremote: Compressing objects:  76% (13/17)\u001b[K\rremote: Compressing objects:  82% (14/17)\u001b[K\rremote: Compressing objects:  88% (15/17)\u001b[K\rremote: Compressing objects:  94% (16/17)\u001b[K\rremote: Compressing objects: 100% (17/17)\u001b[K\rremote: Compressing objects: 100% (17/17), done.\u001b[K\n",
            "Receiving objects:   0% (1/111)   \rReceiving objects:   1% (2/111)   \rReceiving objects:   2% (3/111)   \rReceiving objects:   3% (4/111)   \rReceiving objects:   4% (5/111)   \rReceiving objects:   5% (6/111)   \rReceiving objects:   6% (7/111)   \rReceiving objects:   7% (8/111)   \rReceiving objects:   8% (9/111)   \rReceiving objects:   9% (10/111)   \rReceiving objects:  10% (12/111)   \rReceiving objects:  11% (13/111)   \rReceiving objects:  12% (14/111)   \rReceiving objects:  13% (15/111)   \rReceiving objects:  14% (16/111)   \rReceiving objects:  15% (17/111)   \rReceiving objects:  16% (18/111)   \rReceiving objects:  17% (19/111)   \rReceiving objects:  18% (20/111)   \rReceiving objects:  19% (22/111)   \rReceiving objects:  20% (23/111)   \rReceiving objects:  21% (24/111)   \rReceiving objects:  22% (25/111)   \rReceiving objects:  23% (26/111)   \rReceiving objects:  24% (27/111)   \rReceiving objects:  25% (28/111)   \rReceiving objects:  26% (29/111)   \rReceiving objects:  27% (30/111)   \rReceiving objects:  28% (32/111)   \rReceiving objects:  29% (33/111)   \rReceiving objects:  30% (34/111)   \rReceiving objects:  31% (35/111)   \rReceiving objects:  32% (36/111)   \rReceiving objects:  33% (37/111)   \rReceiving objects:  34% (38/111)   \rReceiving objects:  35% (39/111)   \rReceiving objects:  36% (40/111)   \rReceiving objects:  37% (42/111)   \rReceiving objects:  38% (43/111)   \rReceiving objects:  39% (44/111)   \rReceiving objects:  40% (45/111)   \rReceiving objects:  41% (46/111)   \rReceiving objects:  42% (47/111)   \rReceiving objects:  43% (48/111)   \rReceiving objects:  44% (49/111)   \rReceiving objects:  45% (50/111)   \rReceiving objects:  46% (52/111)   \rReceiving objects:  47% (53/111)   \rReceiving objects:  48% (54/111)   \rReceiving objects:  49% (55/111)   \rReceiving objects:  50% (56/111)   \rReceiving objects:  51% (57/111)   \rReceiving objects:  52% (58/111)   \rReceiving objects:  53% (59/111)   \rReceiving objects:  54% (60/111)   \rReceiving objects:  55% (62/111)   \rReceiving objects:  56% (63/111)   \rReceiving objects:  57% (64/111)   \rReceiving objects:  58% (65/111)   \rReceiving objects:  59% (66/111)   \rReceiving objects:  60% (67/111)   \rReceiving objects:  61% (68/111)   \rReceiving objects:  62% (69/111)   \rReceiving objects:  63% (70/111)   \rReceiving objects:  64% (72/111)   \rReceiving objects:  65% (73/111)   \rReceiving objects:  66% (74/111)   \rReceiving objects:  67% (75/111)   \rReceiving objects:  68% (76/111)   \rReceiving objects:  69% (77/111)   \rReceiving objects:  70% (78/111)   \rReceiving objects:  71% (79/111)   \rReceiving objects:  72% (80/111)   \rReceiving objects:  73% (82/111)   \rReceiving objects:  74% (83/111)   \rReceiving objects:  75% (84/111)   \rReceiving objects:  76% (85/111)   \rReceiving objects:  77% (86/111)   \rReceiving objects:  78% (87/111)   \rReceiving objects:  79% (88/111)   \rReceiving objects:  80% (89/111)   \rReceiving objects:  81% (90/111)   \rReceiving objects:  82% (92/111)   \rReceiving objects:  83% (93/111)   \rReceiving objects:  84% (94/111)   \rReceiving objects:  85% (95/111)   \rReceiving objects:  86% (96/111)   \rReceiving objects:  87% (97/111)   \rReceiving objects:  88% (98/111)   \rReceiving objects:  89% (99/111)   \rReceiving objects:  90% (100/111)   \rReceiving objects:  91% (102/111)   \rReceiving objects:  92% (103/111)   \rReceiving objects:  93% (104/111)   \rReceiving objects:  94% (105/111)   \rremote: Total 111 (delta 7), reused 0 (delta 0), pack-reused 94\u001b[K\n",
            "Receiving objects:  95% (106/111)   \rReceiving objects:  96% (107/111)   \rReceiving objects:  97% (108/111)   \rReceiving objects:  98% (109/111)   \rReceiving objects:  99% (110/111)   \rReceiving objects: 100% (111/111)   \rReceiving objects: 100% (111/111), 777.80 KiB | 13.89 MiB/s, done.\n",
            "Resolving deltas:   0% (0/42)   \rResolving deltas:   2% (1/42)   \rResolving deltas:  11% (5/42)   \rResolving deltas:  19% (8/42)   \rResolving deltas:  28% (12/42)   \rResolving deltas:  42% (18/42)   \rResolving deltas:  47% (20/42)   \rResolving deltas:  54% (23/42)   \rResolving deltas:  57% (24/42)   \rResolving deltas:  59% (25/42)   \rResolving deltas:  64% (27/42)   \rResolving deltas:  71% (30/42)   \rResolving deltas:  73% (31/42)   \rResolving deltas:  76% (32/42)   \rResolving deltas:  78% (33/42)   \rResolving deltas:  80% (34/42)   \rResolving deltas:  95% (40/42)   \rResolving deltas:  97% (41/42)   \rResolving deltas: 100% (42/42)   \rResolving deltas: 100% (42/42), done.\n"
          ],
          "name": "stdout"
        }
      ]
    }
  ]
}