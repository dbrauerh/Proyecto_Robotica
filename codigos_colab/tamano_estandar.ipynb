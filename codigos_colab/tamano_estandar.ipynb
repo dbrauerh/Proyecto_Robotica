{
  "nbformat": 4,
  "nbformat_minor": 0,
  "metadata": {
    "colab": {
      "name": "resize.ipynb",
      "provenance": [],
      "collapsed_sections": []
    },
    "kernelspec": {
      "name": "python3",
      "display_name": "Python 3"
    }
  },
  "cells": [
    {
      "cell_type": "markdown",
      "metadata": {
        "id": "rNqdAj6DVeHq",
        "colab_type": "text"
      },
      "source": [
        "Primero clonando el repositorio de github:"
      ]
    },
    {
      "cell_type": "code",
      "metadata": {
        "id": "qKudhLqYT8Mw",
        "colab_type": "code",
        "colab": {
          "base_uri": "https://localhost:8080/",
          "height": 134
        },
        "outputId": "32a83669-eac6-452c-a791-18da369ae1dd"
      },
      "source": [
        "! git clone https://github.com/dbrauerh/Proyecto_Robotica.git"
      ],
      "execution_count": 2,
      "outputs": [
        {
          "output_type": "stream",
          "text": [
            "Cloning into 'Proyecto_Robotica'...\n",
            "remote: Enumerating objects: 20, done.\u001b[K\n",
            "remote: Counting objects:   5% (1/20)\u001b[K\rremote: Counting objects:  10% (2/20)\u001b[K\rremote: Counting objects:  15% (3/20)\u001b[K\rremote: Counting objects:  20% (4/20)\u001b[K\rremote: Counting objects:  25% (5/20)\u001b[K\rremote: Counting objects:  30% (6/20)\u001b[K\rremote: Counting objects:  35% (7/20)\u001b[K\rremote: Counting objects:  40% (8/20)\u001b[K\rremote: Counting objects:  45% (9/20)\u001b[K\rremote: Counting objects:  50% (10/20)\u001b[K\rremote: Counting objects:  55% (11/20)\u001b[K\rremote: Counting objects:  60% (12/20)\u001b[K\rremote: Counting objects:  65% (13/20)\u001b[K\rremote: Counting objects:  70% (14/20)\u001b[K\rremote: Counting objects:  75% (15/20)\u001b[K\rremote: Counting objects:  80% (16/20)\u001b[K\rremote: Counting objects:  85% (17/20)\u001b[K\rremote: Counting objects:  90% (18/20)\u001b[K\rremote: Counting objects:  95% (19/20)\u001b[K\rremote: Counting objects: 100% (20/20)\u001b[K\rremote: Counting objects: 100% (20/20), done.\u001b[K\n",
            "remote: Compressing objects:   5% (1/19)\u001b[K\rremote: Compressing objects:  10% (2/19)\u001b[K\rremote: Compressing objects:  15% (3/19)\u001b[K\rremote: Compressing objects:  21% (4/19)\u001b[K\rremote: Compressing objects:  26% (5/19)\u001b[K\rremote: Compressing objects:  31% (6/19)\u001b[K\rremote: Compressing objects:  36% (7/19)\u001b[K\rremote: Compressing objects:  42% (8/19)\u001b[K\rremote: Compressing objects:  47% (9/19)\u001b[K\rremote: Compressing objects:  52% (10/19)\u001b[K\rremote: Compressing objects:  57% (11/19)\u001b[K\rremote: Compressing objects:  63% (12/19)\u001b[K\rremote: Compressing objects:  68% (13/19)\u001b[K\rremote: Compressing objects:  73% (14/19)\u001b[K\rremote: Compressing objects:  78% (15/19)\u001b[K\rremote: Compressing objects:  84% (16/19)\u001b[K\rremote: Compressing objects:  89% (17/19)\u001b[K\rremote: Compressing objects:  94% (18/19)\u001b[K\rremote: Compressing objects: 100% (19/19)\u001b[K\rremote: Compressing objects: 100% (19/19), done.\u001b[K\n",
            "Receiving objects:   0% (1/336)   \rReceiving objects:   1% (4/336)   \rReceiving objects:   2% (7/336)   \rReceiving objects:   3% (11/336)   \rReceiving objects:   4% (14/336)   \rReceiving objects:   5% (17/336)   \rReceiving objects:   6% (21/336)   \rReceiving objects:   7% (24/336)   \rReceiving objects:   8% (27/336)   \rReceiving objects:   9% (31/336)   \rReceiving objects:  10% (34/336)   \rReceiving objects:  11% (37/336)   \rReceiving objects:  12% (41/336)   \rReceiving objects:  13% (44/336)   \rReceiving objects:  14% (48/336)   \rReceiving objects:  15% (51/336)   \rReceiving objects:  16% (54/336)   \rReceiving objects:  17% (58/336)   \rReceiving objects:  18% (61/336)   \rReceiving objects:  19% (64/336)   \rReceiving objects:  20% (68/336)   \rReceiving objects:  21% (71/336)   \rReceiving objects:  22% (74/336)   \rReceiving objects:  23% (78/336)   \rReceiving objects:  24% (81/336)   \rReceiving objects:  25% (84/336)   \rReceiving objects:  26% (88/336)   \rReceiving objects:  27% (91/336)   \rReceiving objects:  28% (95/336)   \rReceiving objects:  29% (98/336)   \rReceiving objects:  30% (101/336)   \rReceiving objects:  31% (105/336)   \rReceiving objects:  32% (108/336)   \rReceiving objects:  33% (111/336)   \rReceiving objects:  34% (115/336)   \rReceiving objects:  35% (118/336)   \rReceiving objects:  36% (121/336)   \rReceiving objects:  37% (125/336)   \rReceiving objects:  38% (128/336)   \rReceiving objects:  39% (132/336)   \rReceiving objects:  40% (135/336)   \rReceiving objects:  41% (138/336)   \rReceiving objects:  42% (142/336)   \rReceiving objects:  43% (145/336)   \rReceiving objects:  44% (148/336)   \rReceiving objects:  45% (152/336)   \rReceiving objects:  46% (155/336)   \rReceiving objects:  47% (158/336)   \rReceiving objects:  48% (162/336)   \rReceiving objects:  49% (165/336)   \rReceiving objects:  50% (168/336)   \rReceiving objects:  51% (172/336)   \rReceiving objects:  52% (175/336)   \rReceiving objects:  53% (179/336)   \rReceiving objects:  54% (182/336)   \rReceiving objects:  55% (185/336)   \rReceiving objects:  56% (189/336)   \rReceiving objects:  57% (192/336)   \rReceiving objects:  58% (195/336)   \rReceiving objects:  59% (199/336)   \rReceiving objects:  60% (202/336)   \rReceiving objects:  61% (205/336)   \rReceiving objects:  62% (209/336)   \rReceiving objects:  63% (212/336)   \rReceiving objects:  64% (216/336)   \rReceiving objects:  65% (219/336)   \rReceiving objects:  66% (222/336)   \rReceiving objects:  67% (226/336)   \rReceiving objects:  68% (229/336)   \rReceiving objects:  69% (232/336)   \rReceiving objects:  70% (236/336)   \rReceiving objects:  71% (239/336)   \rReceiving objects:  72% (242/336)   \rReceiving objects:  73% (246/336)   \rReceiving objects:  74% (249/336)   \rReceiving objects:  75% (252/336)   \rReceiving objects:  76% (256/336)   \rReceiving objects:  77% (259/336)   \rReceiving objects:  78% (263/336)   \rReceiving objects:  79% (266/336)   \rReceiving objects:  80% (269/336)   \rReceiving objects:  81% (273/336)   \rReceiving objects:  82% (276/336)   \rReceiving objects:  83% (279/336)   \rReceiving objects:  84% (283/336)   \rReceiving objects:  85% (286/336)   \rReceiving objects:  86% (289/336)   \rReceiving objects:  87% (293/336)   \rReceiving objects:  88% (296/336)   \rReceiving objects:  89% (300/336)   \rReceiving objects:  90% (303/336)   \rReceiving objects:  91% (306/336)   \rReceiving objects:  92% (310/336)   \rReceiving objects:  93% (313/336)   \rReceiving objects:  94% (316/336)   \rReceiving objects:  95% (320/336)   \rReceiving objects:  96% (323/336)   \rReceiving objects:  97% (326/336)   \rremote: Total 336 (delta 6), reused 0 (delta 0), pack-reused 316\u001b[K\n",
            "Receiving objects:  98% (330/336), 21.46 MiB | 42.91 MiB/s   \rReceiving objects:  99% (333/336), 21.46 MiB | 42.91 MiB/s   \rReceiving objects: 100% (336/336), 21.46 MiB | 42.91 MiB/s   \rReceiving objects: 100% (336/336), 22.83 MiB | 43.22 MiB/s, done.\n",
            "Resolving deltas:   0% (0/61)   \rResolving deltas:  14% (9/61)   \rResolving deltas:  16% (10/61)   \rResolving deltas:  19% (12/61)   \rResolving deltas:  21% (13/61)   \rResolving deltas:  27% (17/61)   \rResolving deltas:  32% (20/61)   \rResolving deltas:  34% (21/61)   \rResolving deltas:  42% (26/61)   \rResolving deltas:  45% (28/61)   \rResolving deltas:  47% (29/61)   \rResolving deltas:  49% (30/61)   \rResolving deltas:  52% (32/61)   \rResolving deltas:  57% (35/61)   \rResolving deltas:  59% (36/61)   \rResolving deltas:  60% (37/61)   \rResolving deltas:  62% (38/61)   \rResolving deltas:  63% (39/61)   \rResolving deltas:  67% (41/61)   \rResolving deltas:  68% (42/61)   \rResolving deltas:  70% (43/61)   \rResolving deltas:  75% (46/61)   \rResolving deltas:  77% (47/61)   \rResolving deltas:  78% (48/61)   \rResolving deltas:  80% (49/61)   \rResolving deltas:  96% (59/61)   \rResolving deltas:  98% (60/61)   \rResolving deltas: 100% (61/61)   \rResolving deltas: 100% (61/61), done.\n"
          ],
          "name": "stdout"
        }
      ]
    },
    {
      "cell_type": "markdown",
      "metadata": {
        "id": "0ZhwUtzuVqPM",
        "colab_type": "text"
      },
      "source": [
        "Importando las librerias necesarias:"
      ]
    },
    {
      "cell_type": "code",
      "metadata": {
        "id": "QwDccfeUVt43",
        "colab_type": "code",
        "colab": {
          "base_uri": "https://localhost:8080/",
          "height": 322
        },
        "outputId": "9bb98db4-c5f4-4fe5-f445-c11d725966bb"
      },
      "source": [
        "# instalar versión 3.3.0.10 de OpenCV\n",
        "!pip install opencv-python==3.3.0.10 opencv-contrib-python==3.3.0.10\n",
        "\n",
        "import cv2\n",
        "import os\n",
        "import numpy as np\n",
        "import matplotlib.pyplot as plt"
      ],
      "execution_count": 3,
      "outputs": [
        {
          "output_type": "stream",
          "text": [
            "Collecting opencv-python==3.3.0.10\n",
            "\u001b[?25l  Downloading https://files.pythonhosted.org/packages/47/da/d7cc32630062e75cac5df51fcb2fef0786c7037aa76eb500ee5ec6fc881a/opencv_python-3.3.0.10-cp36-cp36m-manylinux1_x86_64.whl (15.4MB)\n",
            "\u001b[K     |████████████████████████████████| 15.5MB 33.9MB/s \n",
            "\u001b[?25hCollecting opencv-contrib-python==3.3.0.10\n",
            "\u001b[?25l  Downloading https://files.pythonhosted.org/packages/6a/8c/2ceec0162a5978592e9ca9a47976d61de3c28c55d2710045ded9c2333b78/opencv_contrib_python-3.3.0.10-cp36-cp36m-manylinux1_x86_64.whl (21.4MB)\n",
            "\u001b[K     |████████████████████████████████| 21.4MB 1.3MB/s \n",
            "\u001b[?25hRequirement already satisfied: numpy>=1.11.3 in /usr/local/lib/python3.6/dist-packages (from opencv-python==3.3.0.10) (1.18.5)\n",
            "\u001b[31mERROR: dopamine-rl 1.0.5 has requirement opencv-python>=3.4.1.15, but you'll have opencv-python 3.3.0.10 which is incompatible.\u001b[0m\n",
            "\u001b[31mERROR: albumentations 0.1.12 has requirement imgaug<0.2.7,>=0.2.5, but you'll have imgaug 0.2.9 which is incompatible.\u001b[0m\n",
            "Installing collected packages: opencv-python, opencv-contrib-python\n",
            "  Found existing installation: opencv-python 4.1.2.30\n",
            "    Uninstalling opencv-python-4.1.2.30:\n",
            "      Successfully uninstalled opencv-python-4.1.2.30\n",
            "  Found existing installation: opencv-contrib-python 4.1.2.30\n",
            "    Uninstalling opencv-contrib-python-4.1.2.30:\n",
            "      Successfully uninstalled opencv-contrib-python-4.1.2.30\n",
            "Successfully installed opencv-contrib-python-3.3.0.10 opencv-python-3.3.0.10\n"
          ],
          "name": "stdout"
        }
      ]
    },
    {
      "cell_type": "markdown",
      "metadata": {
        "id": "rrixXg64WR9L",
        "colab_type": "text"
      },
      "source": [
        "Cambiando la extensión de las imagenes:"
      ]
    },
    {
      "cell_type": "code",
      "metadata": {
        "id": "VhuoVzxg61f7",
        "colab_type": "code",
        "colab": {}
      },
      "source": [
        "path_amarillo = \"Proyecto_Robotica/Imagenes/entrenamiento_amarillo\"\n",
        "path_rojo = \"Proyecto_Robotica/Imagenes/entrenamiento_rojo\"\n",
        "path_verde = \"Proyecto_Robotica/Imagenes/entrenamiento_verde\"\n",
        "path_semaforos = \"Proyecto_Robotica/Imagenes/Semaforos\"\n",
        "def cambiar_extension_JPG(path_buscado):\n",
        "  nom_imagenes = [f for f in os.listdir(path_buscado)\\\n",
        "                  if os.path.isfile(os.path.join(path_buscado, f))]\n",
        "\n",
        "  for i, nom_imagen in enumerate(nom_imagenes):\n",
        "    nom_antiguo = path_buscado + '/' + nom_imagen\n",
        "    nom_len = len(nom_imagen)\n",
        "    if (nom_imagen[nom_len-3: nom_len] == 'JPG'):\n",
        "      nom_nuevo = path_buscado + '/' + nom_imagen[: nom_len-3] +'jpg'\n",
        "      print(\"El nombre antiguo es: \" + nom_antiguo)\n",
        "      print(\"El nombre nuevo es: \" + nom_nuevo)\n",
        "      os.rename(nom_antiguo, nom_nuevo)\n",
        "cambiar_extension_JPG(path_amarillo)\n",
        "cambiar_extension_JPG(path_rojo)\n",
        "cambiar_extension_JPG(path_verde)\n",
        "cambiar_extension_JPG(path_semaforos)\n",
        "paths_semaforos = [path_semaforos]"
      ],
      "execution_count": 5,
      "outputs": []
    },
    {
      "cell_type": "markdown",
      "metadata": {
        "id": "HT6eBe8JLln0",
        "colab_type": "text"
      },
      "source": [
        "Creando una carpeta donde se se guardaran los archivos de entrenamiento y los archivos de validación, cada una de estas carpeta tendra en su interior más carpetas con las opciones que pueden existir."
      ]
    },
    {
      "cell_type": "code",
      "metadata": {
        "id": "Eb6neyVYNMzX",
        "colab_type": "code",
        "colab": {
          "base_uri": "https://localhost:8080/",
          "height": 34
        },
        "outputId": "4edad0b2-9ea2-4f9e-c1d0-4680cebd7376"
      },
      "source": [
        "def crear_carpeta(path_carpeta):\n",
        "  if not os.path.exists(path_carpeta):\n",
        "    os.mkdir(path_carpeta)\n",
        "    print(\"Directory \", path_carpeta, \" Created \")\n",
        "  else:\n",
        "    print(\"Derectory \" , path_carpeta, \"already exist\")\n",
        "\n",
        "\"\"\"\n",
        "path_entrenamiento = \"entrenamiento\"\n",
        "path_validacion = \"validacion\"\n",
        "\n",
        "path_entre_sema_a =\"entrenamiento/semaforo_a\"\n",
        "path_entre_sema_r = \"entrenamiento/semaforo_r\"\n",
        "path_entre_sema_v = \"entrenamiento/semaforo_v\"\n",
        "path_entre_no_sema = \"entrenamiento/no_semaforo\"\n",
        "path_vali_sema_a = \"validacion/semaforo_a\"\n",
        "path_vali_sema_r = \"validacion/semaforo_r\"\n",
        "path_vali_sema_v = \"validacion/semaforo_v\"\n",
        "path_vali_no_sema = \"validacion/no_semaforo\"\n",
        "\n",
        "\n",
        "crear_carpeta(path_entrenamiento)\n",
        "crear_carpeta(path_entre_sema_a)\n",
        "crear_carpeta(path_entre_sema_r)\n",
        "crear_carpeta(path_entre_sema_v)\n",
        "crear_carpeta(path_entre_no_sema)\n",
        "\n",
        "crear_carpeta(path_validacion)\n",
        "crear_carpeta(path_vali_sema_a)\n",
        "crear_carpeta(path_vali_sema_r)\n",
        "crear_carpeta(path_vali_sema_v)\n",
        "crear_carpeta(path_vali_no_sema)\"\"\"\n",
        "output_path = \"imagenes_resize\"\n",
        "crear_carpeta(output_path)"
      ],
      "execution_count": 6,
      "outputs": [
        {
          "output_type": "stream",
          "text": [
            "Directory  imagenes_resize  Created \n"
          ],
          "name": "stdout"
        }
      ]
    },
    {
      "cell_type": "markdown",
      "metadata": {
        "id": "8Er8PQGyT1x3",
        "colab_type": "text"
      },
      "source": [
        "Copiando las fotos de sus carpetas originales a las carpetas de entrenamiento y de validación, esto se hace de al azar de tal forma que x% este en la carpeta entrenamiento, y (100-x)% este en la carpeta validación."
      ]
    },
    {
      "cell_type": "code",
      "metadata": {
        "id": "0rkSqb65UAJ6",
        "colab_type": "code",
        "colab": {
          "base_uri": "https://localhost:8080/",
          "height": 1000
        },
        "outputId": "1268b561-9f7d-45e4-9e9d-c7e5549076eb"
      },
      "source": [
        "nombres='s'\n",
        "indice = 1\n",
        "for path_buscado in paths_semaforos:\n",
        "  print(\"carpeta_actual: \" + path_buscado)\n",
        "  nom_imagenes = [f for f in os.listdir(path_buscado)\\\n",
        "                  if os.path.isfile(os.path.join(path_buscado, f))]\n",
        "\n",
        "  for i, nom_imagen in enumerate(nom_imagenes):\n",
        "    len_act = np.int(len(nom_imagen))\n",
        "    if(nom_imagen[len_act - 3: len_act] == 'jpg'):\n",
        "      path_antiguo = path_buscado + '/' + nom_imagen\n",
        "      path_nuevo = output_path + '/' + nombres + str(indice) + '.jpg'\n",
        "      indice += 1\n",
        "      img = cv2.imread(path_antiguo)\n",
        "      print('forma de img: ' + str(img.shape))\n",
        "      width = 224\n",
        "      heigh = 224\n",
        "      dim = (width, heigh)\n",
        "      resized = cv2.resize(img, dim, interpolation = cv2.INTER_AREA)\n",
        "      cv2.imwrite(path_nuevo, resized)\n",
        "      print(\"La imagen actual es: \" + path_antiguo)\n",
        "\n",
        "\n"
      ],
      "execution_count": 12,
      "outputs": [
        {
          "output_type": "stream",
          "text": [
            "carpeta_actual: Proyecto_Robotica/Imagenes/Semaforos\n",
            "forma de img: (225, 225, 3)\n",
            "La imagen actual es: Proyecto_Robotica/Imagenes/Semaforos/sa10.jpg\n",
            "forma de img: (225, 225, 3)\n",
            "La imagen actual es: Proyecto_Robotica/Imagenes/Semaforos/sv14.jpg\n",
            "forma de img: (229, 220, 3)\n",
            "La imagen actual es: Proyecto_Robotica/Imagenes/Semaforos/sr18.jpg\n",
            "forma de img: (168, 299, 3)\n",
            "La imagen actual es: Proyecto_Robotica/Imagenes/Semaforos/sv19.jpg\n",
            "forma de img: (225, 225, 3)\n",
            "La imagen actual es: Proyecto_Robotica/Imagenes/Semaforos/sv18.jpg\n",
            "forma de img: (170, 296, 3)\n",
            "La imagen actual es: Proyecto_Robotica/Imagenes/Semaforos/sr3.jpg\n",
            "forma de img: (225, 225, 3)\n",
            "La imagen actual es: Proyecto_Robotica/Imagenes/Semaforos/sv4.jpg\n",
            "forma de img: (275, 183, 3)\n",
            "La imagen actual es: Proyecto_Robotica/Imagenes/Semaforos/sa7.jpg\n",
            "forma de img: (177, 285, 3)\n",
            "La imagen actual es: Proyecto_Robotica/Imagenes/Semaforos/sa15.jpg\n",
            "forma de img: (225, 225, 3)\n",
            "La imagen actual es: Proyecto_Robotica/Imagenes/Semaforos/sa13.jpg\n",
            "forma de img: (160, 154, 3)\n",
            "La imagen actual es: Proyecto_Robotica/Imagenes/Semaforos/sa2.jpg\n",
            "forma de img: (225, 225, 3)\n",
            "La imagen actual es: Proyecto_Robotica/Imagenes/Semaforos/sr7.jpg\n",
            "forma de img: (100, 100, 3)\n",
            "La imagen actual es: Proyecto_Robotica/Imagenes/Semaforos/sa14.jpg\n",
            "forma de img: (300, 168, 3)\n",
            "La imagen actual es: Proyecto_Robotica/Imagenes/Semaforos/sa3.jpg\n",
            "forma de img: (233, 216, 3)\n",
            "La imagen actual es: Proyecto_Robotica/Imagenes/Semaforos/sa16.jpg\n",
            "forma de img: (228, 221, 3)\n",
            "La imagen actual es: Proyecto_Robotica/Imagenes/Semaforos/sa19.jpg\n",
            "forma de img: (225, 225, 3)\n",
            "La imagen actual es: Proyecto_Robotica/Imagenes/Semaforos/sr17.jpg\n",
            "forma de img: (183, 275, 3)\n",
            "La imagen actual es: Proyecto_Robotica/Imagenes/Semaforos/sr15.jpg\n",
            "forma de img: (321, 157, 3)\n",
            "La imagen actual es: Proyecto_Robotica/Imagenes/Semaforos/sr9.jpg\n",
            "forma de img: (194, 259, 3)\n",
            "La imagen actual es: Proyecto_Robotica/Imagenes/Semaforos/sr12.jpg\n",
            "forma de img: (259, 195, 3)\n",
            "La imagen actual es: Proyecto_Robotica/Imagenes/Semaforos/sr10.jpg\n",
            "forma de img: (168, 300, 3)\n",
            "La imagen actual es: Proyecto_Robotica/Imagenes/Semaforos/sv5.jpg\n",
            "forma de img: (225, 224, 3)\n",
            "La imagen actual es: Proyecto_Robotica/Imagenes/Semaforos/sv6.jpg\n",
            "forma de img: (187, 269, 3)\n",
            "La imagen actual es: Proyecto_Robotica/Imagenes/Semaforos/sa18.jpg\n",
            "forma de img: (183, 275, 3)\n",
            "La imagen actual es: Proyecto_Robotica/Imagenes/Semaforos/sa5.jpg\n",
            "forma de img: (156, 323, 3)\n",
            "La imagen actual es: Proyecto_Robotica/Imagenes/Semaforos/sv1.jpg\n",
            "forma de img: (168, 300, 3)\n",
            "La imagen actual es: Proyecto_Robotica/Imagenes/Semaforos/sa6.jpg\n",
            "forma de img: (259, 194, 3)\n",
            "La imagen actual es: Proyecto_Robotica/Imagenes/Semaforos/sr20.jpg\n",
            "forma de img: (178, 283, 3)\n",
            "La imagen actual es: Proyecto_Robotica/Imagenes/Semaforos/sv17.jpg\n",
            "forma de img: (180, 280, 3)\n",
            "La imagen actual es: Proyecto_Robotica/Imagenes/Semaforos/sv10.jpg\n",
            "forma de img: (194, 259, 3)\n",
            "La imagen actual es: Proyecto_Robotica/Imagenes/Semaforos/sr2.jpg\n",
            "forma de img: (225, 225, 3)\n",
            "La imagen actual es: Proyecto_Robotica/Imagenes/Semaforos/sv20.jpg\n",
            "forma de img: (168, 300, 3)\n",
            "La imagen actual es: Proyecto_Robotica/Imagenes/Semaforos/sa1.jpg\n",
            "forma de img: (183, 275, 3)\n",
            "La imagen actual es: Proyecto_Robotica/Imagenes/Semaforos/sa4.jpg\n",
            "forma de img: (168, 300, 3)\n",
            "La imagen actual es: Proyecto_Robotica/Imagenes/Semaforos/sr4.jpg\n",
            "forma de img: (175, 288, 3)\n",
            "La imagen actual es: Proyecto_Robotica/Imagenes/Semaforos/sr6.jpg\n",
            "forma de img: (183, 275, 3)\n",
            "La imagen actual es: Proyecto_Robotica/Imagenes/Semaforos/sr19.jpg\n",
            "forma de img: (183, 275, 3)\n",
            "La imagen actual es: Proyecto_Robotica/Imagenes/Semaforos/sv11.jpg\n",
            "forma de img: (190, 266, 3)\n",
            "La imagen actual es: Proyecto_Robotica/Imagenes/Semaforos/sa8.jpg\n",
            "forma de img: (194, 259, 3)\n",
            "La imagen actual es: Proyecto_Robotica/Imagenes/Semaforos/sr13.jpg\n",
            "forma de img: (231, 218, 3)\n",
            "La imagen actual es: Proyecto_Robotica/Imagenes/Semaforos/sv8.jpg\n",
            "forma de img: (259, 194, 3)\n",
            "La imagen actual es: Proyecto_Robotica/Imagenes/Semaforos/sa9.jpg\n",
            "forma de img: (185, 272, 3)\n",
            "La imagen actual es: Proyecto_Robotica/Imagenes/Semaforos/sa17.jpg\n",
            "forma de img: (225, 225, 3)\n",
            "La imagen actual es: Proyecto_Robotica/Imagenes/Semaforos/sv15.jpg\n",
            "forma de img: (166, 303, 3)\n",
            "La imagen actual es: Proyecto_Robotica/Imagenes/Semaforos/sv16.jpg\n",
            "forma de img: (225, 225, 3)\n",
            "La imagen actual es: Proyecto_Robotica/Imagenes/Semaforos/sa20.jpg\n",
            "forma de img: (225, 225, 3)\n",
            "La imagen actual es: Proyecto_Robotica/Imagenes/Semaforos/sv2.jpg\n",
            "forma de img: (302, 167, 3)\n",
            "La imagen actual es: Proyecto_Robotica/Imagenes/Semaforos/sr11.jpg\n",
            "forma de img: (366, 138, 3)\n",
            "La imagen actual es: Proyecto_Robotica/Imagenes/Semaforos/sv7.jpg\n",
            "forma de img: (169, 299, 3)\n",
            "La imagen actual es: Proyecto_Robotica/Imagenes/Semaforos/sv9.jpg\n",
            "forma de img: (168, 300, 3)\n",
            "La imagen actual es: Proyecto_Robotica/Imagenes/Semaforos/sa11.jpg\n",
            "forma de img: (189, 266, 3)\n",
            "La imagen actual es: Proyecto_Robotica/Imagenes/Semaforos/sr16.jpg\n",
            "forma de img: (227, 222, 3)\n",
            "La imagen actual es: Proyecto_Robotica/Imagenes/Semaforos/sv3.jpg\n",
            "forma de img: (168, 300, 3)\n",
            "La imagen actual es: Proyecto_Robotica/Imagenes/Semaforos/sr1.jpg\n",
            "forma de img: (285, 177, 3)\n",
            "La imagen actual es: Proyecto_Robotica/Imagenes/Semaforos/sr8.jpg\n",
            "forma de img: (169, 298, 3)\n",
            "La imagen actual es: Proyecto_Robotica/Imagenes/Semaforos/sr14.jpg\n",
            "forma de img: (168, 300, 3)\n",
            "La imagen actual es: Proyecto_Robotica/Imagenes/Semaforos/sa12.jpg\n",
            "forma de img: (164, 308, 3)\n",
            "La imagen actual es: Proyecto_Robotica/Imagenes/Semaforos/sr5.jpg\n",
            "forma de img: (183, 275, 3)\n",
            "La imagen actual es: Proyecto_Robotica/Imagenes/Semaforos/sv13.jpg\n",
            "forma de img: (159, 317, 3)\n",
            "La imagen actual es: Proyecto_Robotica/Imagenes/Semaforos/sv12.jpg\n"
          ],
          "name": "stdout"
        }
      ]
    },
    {
      "cell_type": "code",
      "metadata": {
        "id": "HNfLu85Kbnog",
        "colab_type": "code",
        "colab": {
          "base_uri": "https://localhost:8080/",
          "height": 1000
        },
        "outputId": "72a4ad93-68c5-47fc-8890-5c1b70415560"
      },
      "source": [
        "!zip -r file /content/file.zip /content/imagenes_resize\n",
        "\n",
        "from google.colab import files\n",
        "files.download(\"/content/file.zip\")"
      ],
      "execution_count": 13,
      "outputs": [
        {
          "output_type": "stream",
          "text": [
            "\tzip warning: name not matched: /content/file.zip\n",
            "  adding: content/imagenes_resize/ (stored 0%)\n",
            "  adding: content/imagenes_resize/s52.jpg (deflated 19%)\n",
            "  adding: content/imagenes_resize/s51.jpg (deflated 1%)\n",
            "  adding: content/imagenes_resize/s56.jpg (deflated 1%)\n",
            "  adding: content/imagenes_resize/s57.jpg (deflated 1%)\n",
            "  adding: content/imagenes_resize/s60.jpg (deflated 1%)\n",
            "  adding: content/imagenes_resize/s42.jpg (deflated 1%)\n",
            "  adding: content/imagenes_resize/s34.jpg (deflated 1%)\n",
            "  adding: content/imagenes_resize/s15.jpg (deflated 6%)\n",
            "  adding: content/imagenes_resize/s36.jpg (deflated 1%)\n",
            "  adding: content/imagenes_resize/s17.jpg (deflated 1%)\n",
            "  adding: content/imagenes_resize/s46.jpg (deflated 11%)\n",
            "  adding: content/imagenes_resize/s3.jpg (deflated 3%)\n",
            "  adding: content/imagenes_resize/s59.jpg (deflated 1%)\n",
            "  adding: content/imagenes_resize/s9.jpg (deflated 5%)\n",
            "  adding: content/imagenes_resize/s16.jpg (deflated 1%)\n",
            "  adding: content/imagenes_resize/s10.jpg (deflated 5%)\n",
            "  adding: content/imagenes_resize/s8.jpg (deflated 1%)\n",
            "  adding: content/imagenes_resize/s24.jpg (deflated 1%)\n",
            "  adding: content/imagenes_resize/s2.jpg (deflated 2%)\n",
            "  adding: content/imagenes_resize/s55.jpg (deflated 1%)\n",
            "  adding: content/imagenes_resize/s22.jpg (deflated 14%)\n",
            "  adding: content/imagenes_resize/s31.jpg (deflated 2%)\n",
            "  adding: content/imagenes_resize/s49.jpg (deflated 4%)\n",
            "  adding: content/imagenes_resize/s6.jpg (deflated 7%)\n",
            "  adding: content/imagenes_resize/s44.jpg (deflated 1%)\n",
            "  adding: content/imagenes_resize/s1.jpg (deflated 6%)\n",
            "  adding: content/imagenes_resize/s23.jpg (deflated 2%)\n",
            "  adding: content/imagenes_resize/s7.jpg (deflated 9%)\n",
            "  adding: content/imagenes_resize/s26.jpg (deflated 1%)\n",
            "  adding: content/imagenes_resize/s13.jpg (deflated 2%)\n",
            "  adding: content/imagenes_resize/s37.jpg (deflated 1%)\n",
            "  adding: content/imagenes_resize/s50.jpg (deflated 2%)\n",
            "  adding: content/imagenes_resize/s21.jpg (deflated 1%)\n",
            "  adding: content/imagenes_resize/s40.jpg (deflated 1%)\n",
            "  adding: content/imagenes_resize/s47.jpg (deflated 19%)\n",
            "  adding: content/imagenes_resize/s39.jpg (deflated 1%)\n",
            "  adding: content/imagenes_resize/s12.jpg (deflated 7%)\n",
            "  adding: content/imagenes_resize/s43.jpg (deflated 1%)\n",
            "  adding: content/imagenes_resize/s58.jpg (deflated 1%)\n",
            "  adding: content/imagenes_resize/s11.jpg (deflated 2%)\n",
            "  adding: content/imagenes_resize/s38.jpg (deflated 1%)\n",
            "  adding: content/imagenes_resize/s54.jpg (deflated 16%)\n",
            "  adding: content/imagenes_resize/s25.jpg (deflated 2%)\n",
            "  adding: content/imagenes_resize/s33.jpg (deflated 2%)\n",
            "  adding: content/imagenes_resize/s45.jpg (deflated 1%)\n",
            "  adding: content/imagenes_resize/s29.jpg (deflated 1%)\n",
            "  adding: content/imagenes_resize/s30.jpg (deflated 1%)\n",
            "  adding: content/imagenes_resize/s19.jpg (deflated 6%)\n",
            "  adding: content/imagenes_resize/s41.jpg (deflated 3%)\n",
            "  adding: content/imagenes_resize/s14.jpg (deflated 1%)\n",
            "  adding: content/imagenes_resize/s18.jpg (deflated 1%)\n",
            "  adding: content/imagenes_resize/s27.jpg (deflated 1%)\n",
            "  adding: content/imagenes_resize/s35.jpg (deflated 1%)\n",
            "  adding: content/imagenes_resize/s53.jpg (deflated 1%)\n",
            "  adding: content/imagenes_resize/s48.jpg (deflated 1%)\n",
            "  adding: content/imagenes_resize/s5.jpg (deflated 2%)\n",
            "  adding: content/imagenes_resize/s32.jpg (deflated 14%)\n",
            "  adding: content/imagenes_resize/s28.jpg (deflated 6%)\n",
            "  adding: content/imagenes_resize/s20.jpg (deflated 1%)\n",
            "  adding: content/imagenes_resize/s4.jpg (deflated 1%)\n"
          ],
          "name": "stdout"
        },
        {
          "output_type": "display_data",
          "data": {
            "application/javascript": [
              "\n",
              "    async function download(id, filename, size) {\n",
              "      if (!google.colab.kernel.accessAllowed) {\n",
              "        return;\n",
              "      }\n",
              "      const div = document.createElement('div');\n",
              "      const label = document.createElement('label');\n",
              "      label.textContent = `Downloading \"${filename}\": `;\n",
              "      div.appendChild(label);\n",
              "      const progress = document.createElement('progress');\n",
              "      progress.max = size;\n",
              "      div.appendChild(progress);\n",
              "      document.body.appendChild(div);\n",
              "\n",
              "      const buffers = [];\n",
              "      let downloaded = 0;\n",
              "\n",
              "      const channel = await google.colab.kernel.comms.open(id);\n",
              "      // Send a message to notify the kernel that we're ready.\n",
              "      channel.send({})\n",
              "\n",
              "      for await (const message of channel.messages) {\n",
              "        // Send a message to notify the kernel that we're ready.\n",
              "        channel.send({})\n",
              "        if (message.buffers) {\n",
              "          for (const buffer of message.buffers) {\n",
              "            buffers.push(buffer);\n",
              "            downloaded += buffer.byteLength;\n",
              "            progress.value = downloaded;\n",
              "          }\n",
              "        }\n",
              "      }\n",
              "      const blob = new Blob(buffers, {type: 'application/binary'});\n",
              "      const a = document.createElement('a');\n",
              "      a.href = window.URL.createObjectURL(blob);\n",
              "      a.download = filename;\n",
              "      div.appendChild(a);\n",
              "      a.click();\n",
              "      div.remove();\n",
              "    }\n",
              "  "
            ],
            "text/plain": [
              "<IPython.core.display.Javascript object>"
            ]
          },
          "metadata": {
            "tags": []
          }
        },
        {
          "output_type": "display_data",
          "data": {
            "application/javascript": [
              "download(\"download_11560e66-5e42-4164-bef5-7db8f064e8a8\", \"file.zip\", 948712)"
            ],
            "text/plain": [
              "<IPython.core.display.Javascript object>"
            ]
          },
          "metadata": {
            "tags": []
          }
        }
      ]
    },
    {
      "cell_type": "code",
      "metadata": {
        "id": "OX9PV1Y98Bg1",
        "colab_type": "code",
        "colab": {}
      },
      "source": [
        ""
      ],
      "execution_count": null,
      "outputs": []
    }
  ]
}