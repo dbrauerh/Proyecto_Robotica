{
  "nbformat": 4,
  "nbformat_minor": 0,
  "metadata": {
    "colab": {
      "name": "red_conv_semaforo.ipynb",
      "provenance": [],
      "collapsed_sections": []
    },
    "kernelspec": {
      "name": "python3",
      "display_name": "Python 3"
    }
  },
  "cells": [
    {
      "cell_type": "markdown",
      "metadata": {
        "id": "rNqdAj6DVeHq",
        "colab_type": "text"
      },
      "source": [
        "Primero clonando el repositorio de github:"
      ]
    },
    {
      "cell_type": "code",
      "metadata": {
        "id": "qKudhLqYT8Mw",
        "colab_type": "code",
        "colab": {
          "base_uri": "https://localhost:8080/",
          "height": 101
        },
        "outputId": "52244818-4bd2-4d36-c49c-ee5638edbbef"
      },
      "source": [
        "! git clone https://github.com/dbrauerh/Proyecto_Robotica.git"
      ],
      "execution_count": null,
      "outputs": [
        {
          "output_type": "stream",
          "text": [
            "Cloning into 'Proyecto_Robotica'...\n",
            "remote: Enumerating objects: 199, done.\u001b[K\n",
            "Receiving objects:   0% (1/199)   \rReceiving objects:   1% (2/199)   \rReceiving objects:   2% (4/199)   \rReceiving objects:   3% (6/199)   \rReceiving objects:   4% (8/199)   \rReceiving objects:   5% (10/199)   \rReceiving objects:   6% (12/199)   \rReceiving objects:   7% (14/199)   \rReceiving objects:   8% (16/199)   \rReceiving objects:   9% (18/199)   \rReceiving objects:  10% (20/199)   \rReceiving objects:  11% (22/199)   \rReceiving objects:  12% (24/199)   \rReceiving objects:  13% (26/199)   \rReceiving objects:  14% (28/199)   \rReceiving objects:  15% (30/199)   \rReceiving objects:  16% (32/199)   \rReceiving objects:  17% (34/199)   \rReceiving objects:  18% (36/199)   \rReceiving objects:  19% (38/199)   \rReceiving objects:  20% (40/199)   \rReceiving objects:  21% (42/199)   \rReceiving objects:  22% (44/199)   \rReceiving objects:  23% (46/199)   \rReceiving objects:  24% (48/199)   \rReceiving objects:  25% (50/199)   \rReceiving objects:  26% (52/199)   \rReceiving objects:  27% (54/199)   \rReceiving objects:  28% (56/199)   \rReceiving objects:  29% (58/199)   \rReceiving objects:  30% (60/199)   \rReceiving objects:  31% (62/199)   \rReceiving objects:  32% (64/199)   \rReceiving objects:  33% (66/199)   \rReceiving objects:  34% (68/199)   \rReceiving objects:  35% (70/199)   \rReceiving objects:  36% (72/199)   \rReceiving objects:  37% (74/199)   \rReceiving objects:  38% (76/199)   \rReceiving objects:  39% (78/199)   \rReceiving objects:  40% (80/199)   \rReceiving objects:  41% (82/199)   \rReceiving objects:  42% (84/199)   \rReceiving objects:  43% (86/199)   \rReceiving objects:  44% (88/199)   \rReceiving objects:  45% (90/199)   \rReceiving objects:  46% (92/199)   \rReceiving objects:  47% (94/199)   \rReceiving objects:  48% (96/199)   \rReceiving objects:  49% (98/199)   \rReceiving objects:  50% (100/199)   \rReceiving objects:  51% (102/199)   \rReceiving objects:  52% (104/199)   \rReceiving objects:  53% (106/199)   \rReceiving objects:  54% (108/199)   \rReceiving objects:  55% (110/199)   \rReceiving objects:  56% (112/199)   \rReceiving objects:  57% (114/199)   \rReceiving objects:  58% (116/199)   \rReceiving objects:  59% (118/199)   \rReceiving objects:  60% (120/199)   \rReceiving objects:  61% (122/199)   \rReceiving objects:  62% (124/199)   \rReceiving objects:  63% (126/199)   \rReceiving objects:  64% (128/199)   \rReceiving objects:  65% (130/199)   \rReceiving objects:  66% (132/199)   \rReceiving objects:  67% (134/199)   \rReceiving objects:  68% (136/199)   \rReceiving objects:  69% (138/199)   \rReceiving objects:  70% (140/199)   \rReceiving objects:  71% (142/199)   \rReceiving objects:  72% (144/199)   \rReceiving objects:  73% (146/199)   \rReceiving objects:  74% (148/199)   \rReceiving objects:  75% (150/199)   \rReceiving objects:  76% (152/199)   \rReceiving objects:  77% (154/199)   \rReceiving objects:  78% (156/199)   \rReceiving objects:  79% (158/199)   \rReceiving objects:  80% (160/199)   \rremote: Total 199 (delta 0), reused 0 (delta 0), pack-reused 199\u001b[K\n",
            "Receiving objects:  81% (162/199)   \rReceiving objects:  82% (164/199)   \rReceiving objects:  83% (166/199)   \rReceiving objects:  84% (168/199)   \rReceiving objects:  85% (170/199)   \rReceiving objects:  86% (172/199)   \rReceiving objects:  87% (174/199)   \rReceiving objects:  88% (176/199)   \rReceiving objects:  89% (178/199)   \rReceiving objects:  90% (180/199)   \rReceiving objects:  91% (182/199)   \rReceiving objects:  92% (184/199)   \rReceiving objects:  93% (186/199)   \rReceiving objects:  94% (188/199)   \rReceiving objects:  95% (190/199)   \rReceiving objects:  96% (192/199)   \rReceiving objects:  97% (194/199)   \rReceiving objects:  98% (196/199)   \rReceiving objects:  99% (198/199)   \rReceiving objects: 100% (199/199)   \rReceiving objects: 100% (199/199), 14.03 MiB | 38.52 MiB/s, done.\n",
            "Resolving deltas:   0% (0/52)   \rResolving deltas:  13% (7/52)   \rResolving deltas:  19% (10/52)   \rResolving deltas:  26% (14/52)   \rResolving deltas:  38% (20/52)   \rResolving deltas:  44% (23/52)   \rResolving deltas:  48% (25/52)   \rResolving deltas:  50% (26/52)   \rResolving deltas:  51% (27/52)   \rResolving deltas:  53% (28/52)   \rResolving deltas:  59% (31/52)   \rResolving deltas:  63% (33/52)   \rResolving deltas:  65% (34/52)   \rResolving deltas:  67% (35/52)   \rResolving deltas:  69% (36/52)   \rResolving deltas:  73% (38/52)   \rResolving deltas:  75% (39/52)   \rResolving deltas:  80% (42/52)   \rResolving deltas:  82% (43/52)   \rResolving deltas:  92% (48/52)   \rResolving deltas: 100% (52/52)   \rResolving deltas: 100% (52/52), done.\n"
          ],
          "name": "stdout"
        }
      ]
    },
    {
      "cell_type": "markdown",
      "metadata": {
        "id": "0ZhwUtzuVqPM",
        "colab_type": "text"
      },
      "source": [
        "Importando las librerias necesarias:"
      ]
    },
    {
      "cell_type": "code",
      "metadata": {
        "id": "QwDccfeUVt43",
        "colab_type": "code",
        "colab": {}
      },
      "source": [
        "from tensorflow.keras.models import Sequential\n",
        "from tensorflow.keras.layers import Dense, Conv2D, Flatten, Dropout, MaxPooling2D\n",
        "from tensorflow.keras.preprocessing.image import ImageDataGenerator\n",
        "\n",
        "import os\n",
        "import numpy as np\n",
        "import matplotlib.pyplot as plt"
      ],
      "execution_count": 3,
      "outputs": []
    },
    {
      "cell_type": "markdown",
      "metadata": {
        "id": "rrixXg64WR9L",
        "colab_type": "text"
      },
      "source": [
        "Cambiando la extensión de las imagenes:"
      ]
    },
    {
      "cell_type": "code",
      "metadata": {
        "id": "VhuoVzxg61f7",
        "colab_type": "code",
        "colab": {}
      },
      "source": [
        "path_amarillo = \"Proyecto_Robotica/Imagenes/entrenamiento_amarillo\"\n",
        "path_rojo = \"Proyecto_Robotica/Imagenes/entrenamiento_rojo\"\n",
        "path_verde = \"Proyecto_Robotica/Imagenes/entrenamiento_verde\"\n",
        "path_semaforos = \"Proyecto_Robotica/Imagenes/Semaforos\"\n",
        "def cambiar_extension_JPG(path_buscado):\n",
        "  nom_imagenes = [f for f in os.listdir(path_buscado)\\\n",
        "                  if os.path.isfile(os.path.join(path_buscado, f))]\n",
        "\n",
        "  for i, nom_imagen in enumerate(nom_imagenes):\n",
        "    nom_antiguo = path_buscado + '/' + nom_imagen\n",
        "    nom_len = len(nom_imagen)\n",
        "    if (nom_imagen[nom_len-3: nom_len] == 'JPG'):\n",
        "      nom_nuevo = path_buscado + '/' + nom_imagen[: nom_len-3] +'jpg'\n",
        "      print(\"El nombre antiguo es: \" + nom_antiguo)\n",
        "      print(\"El nombre nuevo es: \" + nom_nuevo)\n",
        "      os.rename(nom_antiguo, nom_nuevo)\n",
        "cambiar_extension_JPG(path_amarillo)\n",
        "cambiar_extension_JPG(path_rojo)\n",
        "cambiar_extension_JPG(path_verde)\n",
        "cambiar_extension_JPG(path_semaforos)"
      ],
      "execution_count": 20,
      "outputs": []
    },
    {
      "cell_type": "markdown",
      "metadata": {
        "id": "qK5vfJdbEnGI",
        "colab_type": "text"
      },
      "source": [
        ""
      ]
    }
  ]
}