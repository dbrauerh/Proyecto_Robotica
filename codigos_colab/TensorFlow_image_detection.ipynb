{
  "nbformat": 4,
  "nbformat_minor": 0,
  "metadata": {
    "colab": {
      "name": "red_conv_semaforo.ipynb",
      "provenance": [],
      "collapsed_sections": []
    },
    "kernelspec": {
      "name": "python3",
      "display_name": "Python 3"
    }
  },
  "cells": [
    {
      "cell_type": "markdown",
      "metadata": {
        "id": "rNqdAj6DVeHq",
        "colab_type": "text"
      },
      "source": [
        "Primero clonando el repositorio de github:"
      ]
    },
    {
      "cell_type": "code",
      "metadata": {
        "id": "qKudhLqYT8Mw",
        "colab_type": "code",
        "colab": {
          "base_uri": "https://localhost:8080/",
          "height": 134
        },
        "outputId": "1cd4645d-a431-4cf9-99a1-dda92246965a"
      },
      "source": [
        "! git clone https://github.com/dbrauerh/Proyecto_Robotica.git"
      ],
      "execution_count": null,
      "outputs": [
        {
          "output_type": "stream",
          "text": [
            "Cloning into 'Proyecto_Robotica'...\n",
            "remote: Enumerating objects: 4, done.\u001b[K\n",
            "remote: Counting objects:  25% (1/4)\u001b[K\rremote: Counting objects:  50% (2/4)\u001b[K\rremote: Counting objects:  75% (3/4)\u001b[K\rremote: Counting objects: 100% (4/4)\u001b[K\rremote: Counting objects: 100% (4/4), done.\u001b[K\n",
            "remote: Compressing objects:  25% (1/4)\u001b[K\rremote: Compressing objects:  50% (2/4)\u001b[K\rremote: Compressing objects:  75% (3/4)\u001b[K\rremote: Compressing objects: 100% (4/4)\u001b[K\rremote: Compressing objects: 100% (4/4), done.\u001b[K\n",
            "Receiving objects:   0% (1/320)   \rReceiving objects:   1% (4/320)   \rReceiving objects:   2% (7/320)   \rReceiving objects:   3% (10/320)   \rReceiving objects:   4% (13/320)   \rReceiving objects:   5% (16/320)   \rReceiving objects:   6% (20/320)   \rReceiving objects:   7% (23/320)   \rReceiving objects:   8% (26/320)   \rReceiving objects:   9% (29/320)   \rReceiving objects:  10% (32/320)   \rReceiving objects:  11% (36/320)   \rReceiving objects:  12% (39/320)   \rReceiving objects:  13% (42/320)   \rReceiving objects:  14% (45/320)   \rReceiving objects:  15% (48/320)   \rReceiving objects:  16% (52/320)   \rReceiving objects:  17% (55/320)   \rReceiving objects:  18% (58/320)   \rReceiving objects:  19% (61/320)   \rReceiving objects:  20% (64/320)   \rReceiving objects:  21% (68/320)   \rReceiving objects:  22% (71/320)   \rReceiving objects:  23% (74/320)   \rReceiving objects:  24% (77/320)   \rReceiving objects:  25% (80/320)   \rReceiving objects:  26% (84/320)   \rReceiving objects:  27% (87/320)   \rReceiving objects:  28% (90/320)   \rReceiving objects:  29% (93/320)   \rReceiving objects:  30% (96/320)   \rReceiving objects:  31% (100/320)   \rReceiving objects:  32% (103/320)   \rReceiving objects:  33% (106/320)   \rReceiving objects:  34% (109/320)   \rReceiving objects:  35% (112/320)   \rReceiving objects:  36% (116/320)   \rReceiving objects:  37% (119/320)   \rReceiving objects:  38% (122/320)   \rReceiving objects:  39% (125/320)   \rReceiving objects:  40% (128/320)   \rReceiving objects:  41% (132/320)   \rReceiving objects:  42% (135/320)   \rReceiving objects:  43% (138/320)   \rReceiving objects:  44% (141/320)   \rReceiving objects:  45% (144/320)   \rReceiving objects:  46% (148/320)   \rReceiving objects:  47% (151/320)   \rReceiving objects:  48% (154/320)   \rReceiving objects:  49% (157/320)   \rReceiving objects:  50% (160/320)   \rReceiving objects:  51% (164/320)   \rReceiving objects:  52% (167/320)   \rReceiving objects:  53% (170/320)   \rReceiving objects:  54% (173/320)   \rReceiving objects:  55% (176/320)   \rReceiving objects:  56% (180/320)   \rReceiving objects:  57% (183/320)   \rReceiving objects:  58% (186/320)   \rReceiving objects:  59% (189/320)   \rReceiving objects:  60% (192/320)   \rReceiving objects:  61% (196/320)   \rReceiving objects:  62% (199/320)   \rReceiving objects:  63% (202/320)   \rReceiving objects:  64% (205/320)   \rReceiving objects:  65% (208/320)   \rReceiving objects:  66% (212/320)   \rReceiving objects:  67% (215/320)   \rReceiving objects:  68% (218/320)   \rReceiving objects:  69% (221/320)   \rReceiving objects:  70% (224/320)   \rReceiving objects:  71% (228/320)   \rReceiving objects:  72% (231/320)   \rReceiving objects:  73% (234/320)   \rReceiving objects:  74% (237/320)   \rReceiving objects:  75% (240/320)   \rReceiving objects:  76% (244/320)   \rReceiving objects:  77% (247/320)   \rReceiving objects:  78% (250/320)   \rReceiving objects:  79% (253/320)   \rReceiving objects:  80% (256/320)   \rReceiving objects:  81% (260/320)   \rReceiving objects:  82% (263/320)   \rReceiving objects:  83% (266/320)   \rReceiving objects:  84% (269/320)   \rReceiving objects:  85% (272/320)   \rremote: Total 320 (delta 0), reused 0 (delta 0), pack-reused 316\u001b[K\n",
            "Receiving objects:  86% (276/320)   \rReceiving objects:  87% (279/320)   \rReceiving objects:  88% (282/320)   \rReceiving objects:  89% (285/320)   \rReceiving objects:  90% (288/320)   \rReceiving objects:  91% (292/320)   \rReceiving objects:  92% (295/320)   \rReceiving objects:  93% (298/320)   \rReceiving objects:  94% (301/320)   \rReceiving objects:  95% (304/320)   \rReceiving objects:  96% (308/320)   \rReceiving objects:  97% (311/320)   \rReceiving objects:  98% (314/320)   \rReceiving objects:  99% (317/320)   \rReceiving objects: 100% (320/320)   \rReceiving objects: 100% (320/320), 15.10 MiB | 38.94 MiB/s, done.\n",
            "Resolving deltas:   0% (0/55)   \rResolving deltas:  16% (9/55)   \rResolving deltas:  18% (10/55)   \rResolving deltas:  25% (14/55)   \rResolving deltas:  30% (17/55)   \rResolving deltas:  41% (23/55)   \rResolving deltas:  49% (27/55)   \rResolving deltas:  50% (28/55)   \rResolving deltas:  52% (29/55)   \rResolving deltas:  54% (30/55)   \rResolving deltas:  56% (31/55)   \rResolving deltas:  61% (34/55)   \rResolving deltas:  65% (36/55)   \rResolving deltas:  67% (37/55)   \rResolving deltas:  69% (38/55)   \rResolving deltas:  70% (39/55)   \rResolving deltas:  74% (41/55)   \rResolving deltas:  76% (42/55)   \rResolving deltas:  81% (45/55)   \rResolving deltas:  83% (46/55)   \rResolving deltas:  89% (49/55)   \rResolving deltas: 100% (55/55)   \rResolving deltas: 100% (55/55), done.\n"
          ],
          "name": "stdout"
        }
      ]
    },
    {
      "cell_type": "markdown",
      "metadata": {
        "id": "0ZhwUtzuVqPM",
        "colab_type": "text"
      },
      "source": [
        "Importando las librerias necesarias:"
      ]
    },
    {
      "cell_type": "code",
      "metadata": {
        "id": "QwDccfeUVt43",
        "colab_type": "code",
        "colab": {}
      },
      "source": [
        "from tensorflow.keras.models import Sequential\n",
        "from tensorflow.keras.layers import Dense, Conv2D, Flatten, Dropout, MaxPooling2D\n",
        "from tensorflow.keras.preprocessing.image import ImageDataGenerator\n",
        "\n",
        "import os\n",
        "import numpy as np\n",
        "import matplotlib.pyplot as plt"
      ],
      "execution_count": null,
      "outputs": []
    },
    {
      "cell_type": "markdown",
      "metadata": {
        "id": "rrixXg64WR9L",
        "colab_type": "text"
      },
      "source": [
        "Cambiando la extensión de las imagenes:"
      ]
    },
    {
      "cell_type": "code",
      "metadata": {
        "id": "VhuoVzxg61f7",
        "colab_type": "code",
        "colab": {
          "base_uri": "https://localhost:8080/",
          "height": 1000
        },
        "outputId": "8d393482-7e7f-4081-d461-b01c18d1efbf"
      },
      "source": [
        "path_amarillo = \"Proyecto_Robotica/Imagenes/entrenamiento_amarillo\"\n",
        "path_rojo = \"Proyecto_Robotica/Imagenes/entrenamiento_rojo\"\n",
        "path_verde = \"Proyecto_Robotica/Imagenes/entrenamiento_verde\"\n",
        "path_semaforos = \"Proyecto_Robotica/Imagenes/Semaforos\"\n",
        "path_varios = \"Proyecto_Robotica/Imagenes/Varios\"\n",
        "def cambiar_extension_JPG(path_buscado):\n",
        "  nom_imagenes = [f for f in os.listdir(path_buscado)\\\n",
        "                  if os.path.isfile(os.path.join(path_buscado, f))]\n",
        "\n",
        "  for i, nom_imagen in enumerate(nom_imagenes):\n",
        "    nom_antiguo = path_buscado + '/' + nom_imagen\n",
        "    nom_len = len(nom_imagen)\n",
        "    if (nom_imagen[nom_len-3: nom_len] == 'JPG'):\n",
        "      nom_nuevo = path_buscado + '/' + nom_imagen[: nom_len-3] +'jpg'\n",
        "      print(\"El nombre antiguo es: \" + nom_antiguo)\n",
        "      print(\"El nombre nuevo es: \" + nom_nuevo)\n",
        "      os.rename(nom_antiguo, nom_nuevo)\n",
        "cambiar_extension_JPG(path_amarillo)\n",
        "cambiar_extension_JPG(path_rojo)\n",
        "cambiar_extension_JPG(path_verde)\n",
        "cambiar_extension_JPG(path_semaforos)\n",
        "cambiar_extension_JPG(path_varios)"
      ],
      "execution_count": null,
      "outputs": [
        {
          "output_type": "stream",
          "text": [
            "El nombre antiguo es: Proyecto_Robotica/Imagenes/entrenamiento_amarillo/a19.JPG\n",
            "El nombre nuevo es: Proyecto_Robotica/Imagenes/entrenamiento_amarillo/a19.jpg\n",
            "El nombre antiguo es: Proyecto_Robotica/Imagenes/entrenamiento_amarillo/a14.JPG\n",
            "El nombre nuevo es: Proyecto_Robotica/Imagenes/entrenamiento_amarillo/a14.jpg\n",
            "El nombre antiguo es: Proyecto_Robotica/Imagenes/entrenamiento_amarillo/a17.JPG\n",
            "El nombre nuevo es: Proyecto_Robotica/Imagenes/entrenamiento_amarillo/a17.jpg\n",
            "El nombre antiguo es: Proyecto_Robotica/Imagenes/entrenamiento_amarillo/a3.JPG\n",
            "El nombre nuevo es: Proyecto_Robotica/Imagenes/entrenamiento_amarillo/a3.jpg\n",
            "El nombre antiguo es: Proyecto_Robotica/Imagenes/entrenamiento_amarillo/a15.JPG\n",
            "El nombre nuevo es: Proyecto_Robotica/Imagenes/entrenamiento_amarillo/a15.jpg\n",
            "El nombre antiguo es: Proyecto_Robotica/Imagenes/entrenamiento_amarillo/a20.JPG\n",
            "El nombre nuevo es: Proyecto_Robotica/Imagenes/entrenamiento_amarillo/a20.jpg\n",
            "El nombre antiguo es: Proyecto_Robotica/Imagenes/entrenamiento_amarillo/a10.JPG\n",
            "El nombre nuevo es: Proyecto_Robotica/Imagenes/entrenamiento_amarillo/a10.jpg\n",
            "El nombre antiguo es: Proyecto_Robotica/Imagenes/entrenamiento_amarillo/a9.JPG\n",
            "El nombre nuevo es: Proyecto_Robotica/Imagenes/entrenamiento_amarillo/a9.jpg\n",
            "El nombre antiguo es: Proyecto_Robotica/Imagenes/entrenamiento_amarillo/a11.JPG\n",
            "El nombre nuevo es: Proyecto_Robotica/Imagenes/entrenamiento_amarillo/a11.jpg\n",
            "El nombre antiguo es: Proyecto_Robotica/Imagenes/entrenamiento_amarillo/a13.JPG\n",
            "El nombre nuevo es: Proyecto_Robotica/Imagenes/entrenamiento_amarillo/a13.jpg\n",
            "El nombre antiguo es: Proyecto_Robotica/Imagenes/entrenamiento_amarillo/a1.JPG\n",
            "El nombre nuevo es: Proyecto_Robotica/Imagenes/entrenamiento_amarillo/a1.jpg\n",
            "El nombre antiguo es: Proyecto_Robotica/Imagenes/entrenamiento_amarillo/a18.JPG\n",
            "El nombre nuevo es: Proyecto_Robotica/Imagenes/entrenamiento_amarillo/a18.jpg\n",
            "El nombre antiguo es: Proyecto_Robotica/Imagenes/entrenamiento_amarillo/a2.JPG\n",
            "El nombre nuevo es: Proyecto_Robotica/Imagenes/entrenamiento_amarillo/a2.jpg\n",
            "El nombre antiguo es: Proyecto_Robotica/Imagenes/entrenamiento_amarillo/a6.JPG\n",
            "El nombre nuevo es: Proyecto_Robotica/Imagenes/entrenamiento_amarillo/a6.jpg\n",
            "El nombre antiguo es: Proyecto_Robotica/Imagenes/entrenamiento_amarillo/a7.JPG\n",
            "El nombre nuevo es: Proyecto_Robotica/Imagenes/entrenamiento_amarillo/a7.jpg\n",
            "El nombre antiguo es: Proyecto_Robotica/Imagenes/entrenamiento_amarillo/a5.JPG\n",
            "El nombre nuevo es: Proyecto_Robotica/Imagenes/entrenamiento_amarillo/a5.jpg\n",
            "El nombre antiguo es: Proyecto_Robotica/Imagenes/entrenamiento_amarillo/a12.JPG\n",
            "El nombre nuevo es: Proyecto_Robotica/Imagenes/entrenamiento_amarillo/a12.jpg\n",
            "El nombre antiguo es: Proyecto_Robotica/Imagenes/entrenamiento_amarillo/a4.JPG\n",
            "El nombre nuevo es: Proyecto_Robotica/Imagenes/entrenamiento_amarillo/a4.jpg\n",
            "El nombre antiguo es: Proyecto_Robotica/Imagenes/entrenamiento_amarillo/a8.JPG\n",
            "El nombre nuevo es: Proyecto_Robotica/Imagenes/entrenamiento_amarillo/a8.jpg\n",
            "El nombre antiguo es: Proyecto_Robotica/Imagenes/entrenamiento_amarillo/a16.JPG\n",
            "El nombre nuevo es: Proyecto_Robotica/Imagenes/entrenamiento_amarillo/a16.jpg\n",
            "El nombre antiguo es: Proyecto_Robotica/Imagenes/entrenamiento_rojo/r7.JPG\n",
            "El nombre nuevo es: Proyecto_Robotica/Imagenes/entrenamiento_rojo/r7.jpg\n",
            "El nombre antiguo es: Proyecto_Robotica/Imagenes/entrenamiento_rojo/r19.JPG\n",
            "El nombre nuevo es: Proyecto_Robotica/Imagenes/entrenamiento_rojo/r19.jpg\n",
            "El nombre antiguo es: Proyecto_Robotica/Imagenes/entrenamiento_rojo/r20.JPG\n",
            "El nombre nuevo es: Proyecto_Robotica/Imagenes/entrenamiento_rojo/r20.jpg\n",
            "El nombre antiguo es: Proyecto_Robotica/Imagenes/entrenamiento_rojo/r22.JPG\n",
            "El nombre nuevo es: Proyecto_Robotica/Imagenes/entrenamiento_rojo/r22.jpg\n",
            "El nombre antiguo es: Proyecto_Robotica/Imagenes/entrenamiento_rojo/r1.JPG\n",
            "El nombre nuevo es: Proyecto_Robotica/Imagenes/entrenamiento_rojo/r1.jpg\n",
            "El nombre antiguo es: Proyecto_Robotica/Imagenes/entrenamiento_rojo/r16.JPG\n",
            "El nombre nuevo es: Proyecto_Robotica/Imagenes/entrenamiento_rojo/r16.jpg\n",
            "El nombre antiguo es: Proyecto_Robotica/Imagenes/entrenamiento_rojo/r13.JPG\n",
            "El nombre nuevo es: Proyecto_Robotica/Imagenes/entrenamiento_rojo/r13.jpg\n",
            "El nombre antiguo es: Proyecto_Robotica/Imagenes/entrenamiento_rojo/r17.JPG\n",
            "El nombre nuevo es: Proyecto_Robotica/Imagenes/entrenamiento_rojo/r17.jpg\n",
            "El nombre antiguo es: Proyecto_Robotica/Imagenes/entrenamiento_rojo/r3.JPG\n",
            "El nombre nuevo es: Proyecto_Robotica/Imagenes/entrenamiento_rojo/r3.jpg\n",
            "El nombre antiguo es: Proyecto_Robotica/Imagenes/entrenamiento_rojo/r11.JPG\n",
            "El nombre nuevo es: Proyecto_Robotica/Imagenes/entrenamiento_rojo/r11.jpg\n",
            "El nombre antiguo es: Proyecto_Robotica/Imagenes/entrenamiento_rojo/r8.JPG\n",
            "El nombre nuevo es: Proyecto_Robotica/Imagenes/entrenamiento_rojo/r8.jpg\n",
            "El nombre antiguo es: Proyecto_Robotica/Imagenes/entrenamiento_rojo/r6.JPG\n",
            "El nombre nuevo es: Proyecto_Robotica/Imagenes/entrenamiento_rojo/r6.jpg\n",
            "El nombre antiguo es: Proyecto_Robotica/Imagenes/entrenamiento_rojo/r10.JPG\n",
            "El nombre nuevo es: Proyecto_Robotica/Imagenes/entrenamiento_rojo/r10.jpg\n",
            "El nombre antiguo es: Proyecto_Robotica/Imagenes/entrenamiento_rojo/r4.JPG\n",
            "El nombre nuevo es: Proyecto_Robotica/Imagenes/entrenamiento_rojo/r4.jpg\n",
            "El nombre antiguo es: Proyecto_Robotica/Imagenes/entrenamiento_rojo/r9.JPG\n",
            "El nombre nuevo es: Proyecto_Robotica/Imagenes/entrenamiento_rojo/r9.jpg\n",
            "El nombre antiguo es: Proyecto_Robotica/Imagenes/entrenamiento_rojo/r5.JPG\n",
            "El nombre nuevo es: Proyecto_Robotica/Imagenes/entrenamiento_rojo/r5.jpg\n",
            "El nombre antiguo es: Proyecto_Robotica/Imagenes/entrenamiento_rojo/r14.JPG\n",
            "El nombre nuevo es: Proyecto_Robotica/Imagenes/entrenamiento_rojo/r14.jpg\n",
            "El nombre antiguo es: Proyecto_Robotica/Imagenes/entrenamiento_rojo/r18.JPG\n",
            "El nombre nuevo es: Proyecto_Robotica/Imagenes/entrenamiento_rojo/r18.jpg\n",
            "El nombre antiguo es: Proyecto_Robotica/Imagenes/entrenamiento_rojo/r2.JPG\n",
            "El nombre nuevo es: Proyecto_Robotica/Imagenes/entrenamiento_rojo/r2.jpg\n",
            "El nombre antiguo es: Proyecto_Robotica/Imagenes/entrenamiento_rojo/r12.JPG\n",
            "El nombre nuevo es: Proyecto_Robotica/Imagenes/entrenamiento_rojo/r12.jpg\n",
            "El nombre antiguo es: Proyecto_Robotica/Imagenes/entrenamiento_rojo/r15.JPG\n",
            "El nombre nuevo es: Proyecto_Robotica/Imagenes/entrenamiento_rojo/r15.jpg\n",
            "El nombre antiguo es: Proyecto_Robotica/Imagenes/entrenamiento_rojo/r21.JPG\n",
            "El nombre nuevo es: Proyecto_Robotica/Imagenes/entrenamiento_rojo/r21.jpg\n",
            "El nombre antiguo es: Proyecto_Robotica/Imagenes/entrenamiento_verde/v3.JPG\n",
            "El nombre nuevo es: Proyecto_Robotica/Imagenes/entrenamiento_verde/v3.jpg\n",
            "El nombre antiguo es: Proyecto_Robotica/Imagenes/entrenamiento_verde/v14.JPG\n",
            "El nombre nuevo es: Proyecto_Robotica/Imagenes/entrenamiento_verde/v14.jpg\n",
            "El nombre antiguo es: Proyecto_Robotica/Imagenes/entrenamiento_verde/v10.JPG\n",
            "El nombre nuevo es: Proyecto_Robotica/Imagenes/entrenamiento_verde/v10.jpg\n",
            "El nombre antiguo es: Proyecto_Robotica/Imagenes/entrenamiento_verde/v1.JPG\n",
            "El nombre nuevo es: Proyecto_Robotica/Imagenes/entrenamiento_verde/v1.jpg\n",
            "El nombre antiguo es: Proyecto_Robotica/Imagenes/entrenamiento_verde/v2.JPG\n",
            "El nombre nuevo es: Proyecto_Robotica/Imagenes/entrenamiento_verde/v2.jpg\n",
            "El nombre antiguo es: Proyecto_Robotica/Imagenes/entrenamiento_verde/v7.JPG\n",
            "El nombre nuevo es: Proyecto_Robotica/Imagenes/entrenamiento_verde/v7.jpg\n",
            "El nombre antiguo es: Proyecto_Robotica/Imagenes/entrenamiento_verde/v12.JPG\n",
            "El nombre nuevo es: Proyecto_Robotica/Imagenes/entrenamiento_verde/v12.jpg\n",
            "El nombre antiguo es: Proyecto_Robotica/Imagenes/entrenamiento_verde/v15.JPG\n",
            "El nombre nuevo es: Proyecto_Robotica/Imagenes/entrenamiento_verde/v15.jpg\n",
            "El nombre antiguo es: Proyecto_Robotica/Imagenes/entrenamiento_verde/v20.JPG\n",
            "El nombre nuevo es: Proyecto_Robotica/Imagenes/entrenamiento_verde/v20.jpg\n",
            "El nombre antiguo es: Proyecto_Robotica/Imagenes/entrenamiento_verde/v13.JPG\n",
            "El nombre nuevo es: Proyecto_Robotica/Imagenes/entrenamiento_verde/v13.jpg\n",
            "El nombre antiguo es: Proyecto_Robotica/Imagenes/entrenamiento_verde/v5.JPG\n",
            "El nombre nuevo es: Proyecto_Robotica/Imagenes/entrenamiento_verde/v5.jpg\n",
            "El nombre antiguo es: Proyecto_Robotica/Imagenes/entrenamiento_verde/v18.JPG\n",
            "El nombre nuevo es: Proyecto_Robotica/Imagenes/entrenamiento_verde/v18.jpg\n",
            "El nombre antiguo es: Proyecto_Robotica/Imagenes/entrenamiento_verde/v8.JPG\n",
            "El nombre nuevo es: Proyecto_Robotica/Imagenes/entrenamiento_verde/v8.jpg\n",
            "El nombre antiguo es: Proyecto_Robotica/Imagenes/entrenamiento_verde/v9.JPG\n",
            "El nombre nuevo es: Proyecto_Robotica/Imagenes/entrenamiento_verde/v9.jpg\n",
            "El nombre antiguo es: Proyecto_Robotica/Imagenes/entrenamiento_verde/v19.JPG\n",
            "El nombre nuevo es: Proyecto_Robotica/Imagenes/entrenamiento_verde/v19.jpg\n",
            "El nombre antiguo es: Proyecto_Robotica/Imagenes/entrenamiento_verde/v17.JPG\n",
            "El nombre nuevo es: Proyecto_Robotica/Imagenes/entrenamiento_verde/v17.jpg\n",
            "El nombre antiguo es: Proyecto_Robotica/Imagenes/entrenamiento_verde/v16.JPG\n",
            "El nombre nuevo es: Proyecto_Robotica/Imagenes/entrenamiento_verde/v16.jpg\n",
            "El nombre antiguo es: Proyecto_Robotica/Imagenes/entrenamiento_verde/v6.JPG\n",
            "El nombre nuevo es: Proyecto_Robotica/Imagenes/entrenamiento_verde/v6.jpg\n",
            "El nombre antiguo es: Proyecto_Robotica/Imagenes/entrenamiento_verde/v4.JPG\n",
            "El nombre nuevo es: Proyecto_Robotica/Imagenes/entrenamiento_verde/v4.jpg\n",
            "El nombre antiguo es: Proyecto_Robotica/Imagenes/entrenamiento_verde/v11.JPG\n",
            "El nombre nuevo es: Proyecto_Robotica/Imagenes/entrenamiento_verde/v11.jpg\n"
          ],
          "name": "stdout"
        }
      ]
    },
    {
      "cell_type": "markdown",
      "metadata": {
        "id": "HT6eBe8JLln0",
        "colab_type": "text"
      },
      "source": [
        "Creando una carpeta donde se se guardaran los archivos de entrenamiento y los archivos de validación, cada una de estas carpeta tendra en su interior más carpetas con las opciones que pueden existir."
      ]
    },
    {
      "cell_type": "code",
      "metadata": {
        "id": "Eb6neyVYNMzX",
        "colab_type": "code",
        "colab": {
          "base_uri": "https://localhost:8080/",
          "height": 185
        },
        "outputId": "1efa3df5-201a-4740-c8fd-22b237a0840c"
      },
      "source": [
        "def crear_carpeta(path_carpeta):\n",
        "  if not os.path.exists(path_carpeta):\n",
        "    os.mkdir(path_carpeta)\n",
        "    print(\"Directory \", path_carpeta, \" Created \")\n",
        "  else:\n",
        "    print(\"Derectory \" , path_carpeta, \"already exist\")\n",
        "\n",
        "path_entrenamiento = \"entrenamiento\"\n",
        "path_validacion = \"validacion\"\n",
        "\n",
        "path_entre_sema_a =\"entrenamiento/semaforo_a\"\n",
        "path_entre_sema_r = \"entrenamiento/semaforo_r\"\n",
        "path_entre_sema_v = \"entrenamiento/semaforo_v\"\n",
        "path_entre_no_sema = \"entrenamiento/no_semaforo\"\n",
        "path_vali_sema_a = \"validacion/semaforo_a\"\n",
        "path_vali_sema_r = \"validacion/semaforo_r\"\n",
        "path_vali_sema_v = \"validacion/semaforo_v\"\n",
        "path_vali_no_sema = \"validacion/no_semaforo\"\n",
        "\n",
        "\n",
        "crear_carpeta(path_entrenamiento)\n",
        "crear_carpeta(path_entre_sema_a)\n",
        "crear_carpeta(path_entre_sema_r)\n",
        "crear_carpeta(path_entre_sema_v)\n",
        "crear_carpeta(path_entre_no_sema)\n",
        "\n",
        "crear_carpeta(path_validacion)\n",
        "crear_carpeta(path_vali_sema_a)\n",
        "crear_carpeta(path_vali_sema_r)\n",
        "crear_carpeta(path_vali_sema_v)\n",
        "crear_carpeta(path_vali_no_sema)"
      ],
      "execution_count": null,
      "outputs": [
        {
          "output_type": "stream",
          "text": [
            "Derectory  entrenamiento already exist\n",
            "Derectory  entrenamiento/semaforo_a already exist\n",
            "Derectory  entrenamiento/semaforo_r already exist\n",
            "Derectory  entrenamiento/semaforo_v already exist\n",
            "Derectory  entrenamiento/no_semaforo already exist\n",
            "Directory  validacion  Created \n",
            "Directory  validacion/semaforo_a  Created \n",
            "Directory  validacion/semaforo_r  Created \n",
            "Directory  validacion/semaforo_v  Created \n",
            "Directory  validacion/no_semaforo  Created \n"
          ],
          "name": "stdout"
        }
      ]
    },
    {
      "cell_type": "markdown",
      "metadata": {
        "id": "8Er8PQGyT1x3",
        "colab_type": "text"
      },
      "source": [
        "Copiando las fotos de sus carpetas originales a las carpetas de entrenamiento y de validación, esto se hace de al azar de tal forma que x% este en la carpeta entrenamiento, y (100-x)% este en la carpeta validación."
      ]
    },
    {
      "cell_type": "code",
      "metadata": {
        "id": "0rkSqb65UAJ6",
        "colab_type": "code",
        "colab": {
          "base_uri": "https://localhost:8080/",
          "height": 84
        },
        "outputId": "722cb517-9306-498e-898b-aa3fd2fffde5"
      },
      "source": [
        "def copiar(porcentaje_entrenamiento,array_carpeta):\n",
        "  porcentaje_validacion = 100 - porcentaje_entrenamiento\n",
        "  lista_semaforo_a = []\n",
        "  lista_semaforo_r = []\n",
        "  lista_semaforo_v = []\n",
        "  lista_no_semaforo = []\n",
        "\n",
        "  for dir in array_carpeta:\n",
        "    nom_imagenes = [f for f in os.listdir(dir)\\\n",
        "                    if os.path.isfile(os.path.join(dir, f))]\n",
        "    for img in nom_imagenes:\n",
        "      largo_nom = len(img)\n",
        "\n",
        "      if (img[largo_nom-3: largo_nom] == 'jpg'):\n",
        "        if ((img[0] == 'a' or img[1] == 'a') and img[0] != 'v'):\n",
        "          lista_semaforo_a.append(dir + \"/\" + img)\n",
        "\n",
        "        elif (img[0] == 'r' or img[1] == 'r'):\n",
        "          lista_semaforo_r.append(dir + '/' + img)\n",
        "\n",
        "        elif ((img[0] == 'v' or img[1] == 'v') and img[1] != 'a'):\n",
        "          lista_semaforo_v.append(dir + '/' + img)\n",
        "          \n",
        "        else:\n",
        "          lista_no_semaforo.append(dir + '/' + img)\n",
        "\n",
        "  print(\"Cantidad semaforos amarillos: \" + str(len(lista_semaforo_a)))\n",
        "  print(\"Cantidad semaforos rojo: \" + str(len(lista_semaforo_r)))\n",
        "  print(\"Cantidad semaforos verde: \" + str(len(lista_semaforo_v)))\n",
        "  print(\"Cantidad sin semaforo: \" + str(len(lista_no_semaforo)))\n",
        "\n",
        "  copiar(80, [path_amarillo, path_rojo, path_verde,\\\n",
        "              path_semaforos, path_varios])\n",
        "  num_a_entrenamiento = np.int(len(lista_semaforo_a) * \\\n",
        "                              (porcentaje_entrenamiento/100))\n",
        "  num_r_entrenamiento = np.int(len(lista_semaforo_r) * \\\n",
        "                              (porcentaje_entrenamiento/100))\n",
        "  num_v_entrenamiento = np.int(len(lista_semaforo_v) * \\\n",
        "                              (porcentaje_entrenamiento/100))\n",
        "  num_no_sem_entrenamiento = np.int(len(lista_no_semaforo) + \\\n",
        "                      (porcentaje_entrenamiento/100))\n",
        "\n",
        "  num_a_validacion = len(lista_semaforo_a) - num_a_entrenamiento\n",
        "  num_r_validacion = len(lista_semaforo_r) - num_r_entrenamiento\n",
        "  num_v_validacion = len(lista_semaforo_v) - num_v_entrenamiento\n",
        "  num_no_sem_validacion = len(lista_no_semaforo) - num_no_sem_entrenamiento\n",
        "  \n",
        "\n"
      ],
      "execution_count": null,
      "outputs": [
        {
          "output_type": "stream",
          "text": [
            "Cantidad semaforos amarillos: 40\n",
            "Cantidad semaforos rojo: 42\n",
            "Cantidad semaforos verde: 40\n",
            "Cantidad sin semaforo: 120\n"
          ],
          "name": "stdout"
        }
      ]
    },
    {
      "cell_type": "code",
      "metadata": {
        "id": "HNfLu85Kbnog",
        "colab_type": "code",
        "colab": {}
      },
      "source": [
        ""
      ],
      "execution_count": null,
      "outputs": []
    }
  ]
}